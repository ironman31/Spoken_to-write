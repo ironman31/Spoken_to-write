{
 "cells": [
  {
   "cell_type": "code",
   "execution_count": 160,
   "metadata": {},
   "outputs": [],
   "source": [
    "import numpy as np\n",
    "\n",
    "       \n",
    "              "
   ]
  },
  {
   "cell_type": "code",
   "execution_count": 118,
   "metadata": {},
   "outputs": [],
   "source": [
    "def get_rules():\n",
    "    rules = {\"Numbers\":{\n",
    "                        \"zero\": '0',\n",
    "                        \"one\" : '1',\n",
    "                        \"two\": '2',\n",
    "                        \"three\": '3',\n",
    "                        \"four\": '4',\n",
    "                        \"five\": '5',\n",
    "                        \"six\": '6',\n",
    "                        \"seven\": '7',\n",
    "                        \"eight\": '8',\n",
    "                        \"nine\": '9',\n",
    "                        \"ten\": '10',\n",
    "                        \"twenty\": '20',\n",
    "                        \"thirty\": '30',\n",
    "                        \"forty\": '40',\n",
    "                        },\n",
    "            \"Tuples\": {\n",
    "                         \"Single\":1,\n",
    "                         \"Double\":2,\n",
    "                         \"Triple\":3,\n",
    "                         \"Quadruple\":4,\n",
    "                         \"Quintuple\":5,\n",
    "                         \"Sextuple\":6,\n",
    "                         \"Septuple\":7,\n",
    "                         \"Octuple\":8,\n",
    "                         \"Nonuple\":9,\n",
    "                         \"Decuple\":10\n",
    "                      },\n",
    "            \"General\": {\n",
    "                          \"C M\": \"CM\",\n",
    "                          \"P M\": \"PM\",\n",
    "                          \"D M\": \"DM\",\n",
    "                          \"A M\": \"AM\"\n",
    "                       },\n",
    "            \"Currancy\":{\n",
    "                            \"dollars\":\"$\"\n",
    "                            \n",
    "                 \n",
    "                    },\n",
    "             \n",
    "             \n",
    "            }\n",
    "    return rules\n"
   ]
  },
  {
   "cell_type": "code",
   "execution_count": 157,
   "metadata": {},
   "outputs": [],
   "source": [
    "\n",
    "\n",
    "def Spoken_To_Written(corpus):\n",
    "    a=get_rules()\n",
    "\n",
    "\n",
    "    text=corpus.split(' ')\n",
    "\n",
    "    english=[]\n",
    "    t=1\n",
    "    for j in text:\n",
    "        count=0\n",
    "\n",
    "        for i in a:\n",
    "\n",
    "            if j in a[i]:\n",
    "                if i=='Tuples':\n",
    "                    t=a[i][j]\n",
    "\n",
    "                else:    \n",
    "                    english.append(t*a[i][j])\n",
    "                    \n",
    "            if corpus in a['General']:\n",
    "                english.append(a['General'][corpus])\n",
    "                    \n",
    "                return english\n",
    "                    \n",
    "   \n",
    "            elif j not in a[i]:\n",
    "                count+=1\n",
    "        if count==4:\n",
    "            english.append(t*j)\n",
    "            \n",
    "    return ''.join(english )       \n",
    "            "
   ]
  },
  {
   "cell_type": "code",
   "execution_count": 159,
   "metadata": {},
   "outputs": [
    {
     "data": {
      "text/plain": [
       "'2$'"
      ]
     },
     "execution_count": 159,
     "metadata": {},
     "output_type": "execute_result"
    }
   ],
   "source": [
    "Spoken_To_Written('two dollars')\n"
   ]
  },
  {
   "cell_type": "code",
   "execution_count": 162,
   "metadata": {},
   "outputs": [
    {
     "data": {
      "text/plain": [
       "['CM']"
      ]
     },
     "execution_count": 162,
     "metadata": {},
     "output_type": "execute_result"
    }
   ],
   "source": [
    "Spoken_To_Written('C M')\n"
   ]
  },
  {
   "cell_type": "code",
   "execution_count": 163,
   "metadata": {},
   "outputs": [
    {
     "data": {
      "text/plain": [
       "'AAA'"
      ]
     },
     "execution_count": 163,
     "metadata": {},
     "output_type": "execute_result"
    }
   ],
   "source": [
    "Spoken_To_Written('Triple A')\n"
   ]
  }
 ],
 "metadata": {
  "kernelspec": {
   "display_name": "Python 3",
   "language": "python",
   "name": "python3"
  },
  "language_info": {
   "codemirror_mode": {
    "name": "ipython",
    "version": 3
   },
   "file_extension": ".py",
   "mimetype": "text/x-python",
   "name": "python",
   "nbconvert_exporter": "python",
   "pygments_lexer": "ipython3",
   "version": "3.7.3"
  }
 },
 "nbformat": 4,
 "nbformat_minor": 4
}
